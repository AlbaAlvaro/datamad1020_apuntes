{
 "cells": [
  {
   "cell_type": "markdown",
   "metadata": {},
   "source": [
    "# List Comprehension"
   ]
  },
  {
   "cell_type": "code",
   "execution_count": 1,
   "metadata": {},
   "outputs": [],
   "source": [
    "data_staff = [\"Juan\", \"Adri\", \"Felipe\", \"Fernando\", \"Ras\", \"Manuel\", \"Nacho\"]"
   ]
  },
  {
   "cell_type": "code",
   "execution_count": 2,
   "metadata": {},
   "outputs": [],
   "source": [
    "data_mask = []\n",
    "for pers in data_staff:\n",
    "    data_mask.append(pers + \"😷\")"
   ]
  },
  {
   "cell_type": "code",
   "execution_count": 3,
   "metadata": {},
   "outputs": [
    {
     "data": {
      "text/plain": [
       "['Juan😷', 'Adri😷', 'Felipe😷', 'Fernando😷', 'Ras😷', 'Manuel😷', 'Nacho😷']"
      ]
     },
     "execution_count": 3,
     "metadata": {},
     "output_type": "execute_result"
    }
   ],
   "source": [
    "data_mask = [pers+\"😷\" for pers in data_staff]\n",
    "data_mask"
   ]
  },
  {
   "cell_type": "code",
   "execution_count": 4,
   "metadata": {},
   "outputs": [],
   "source": [
    "data_staff = [\"juan\", \"adri\", \"felipe\", \"fernando\", \"ras\", \"manuel\", \"nacho\"]"
   ]
  },
  {
   "cell_type": "code",
   "execution_count": 5,
   "metadata": {},
   "outputs": [
    {
     "data": {
      "text/plain": [
       "['Juan', 'Adri', 'Felipe', 'Fernando', 'Ras', 'Manuel', 'Nacho']"
      ]
     },
     "execution_count": 5,
     "metadata": {},
     "output_type": "execute_result"
    }
   ],
   "source": [
    "data_up = []\n",
    "for pers in data_staff:\n",
    "    data_up.append(pers.capitalize())\n",
    "data_up"
   ]
  },
  {
   "cell_type": "code",
   "execution_count": 6,
   "metadata": {},
   "outputs": [
    {
     "data": {
      "text/plain": [
       "['Juan', 'Adri', 'Felipe', 'Fernando', 'Ras', 'Manuel', 'Nacho']"
      ]
     },
     "execution_count": 6,
     "metadata": {},
     "output_type": "execute_result"
    }
   ],
   "source": [
    "data_up = [pers.capitalize() for pers in data_staff]\n",
    "data_up"
   ]
  },
  {
   "cell_type": "markdown",
   "metadata": {},
   "source": [
    "## Extra\n",
    "In case there are names without 😷"
   ]
  },
  {
   "cell_type": "code",
   "execution_count": 7,
   "metadata": {},
   "outputs": [],
   "source": [
    "data_mask = ['Juan', 'Adri😷', 'Felipe', 'Fernando😷', 'Ras😷', 'Manuel', 'Nacho😷']"
   ]
  },
  {
   "cell_type": "code",
   "execution_count": 8,
   "metadata": {},
   "outputs": [
    {
     "data": {
      "text/plain": [
       "['Felipe', 'Fernando😷', 'Manuel', 'Nacho😷']"
      ]
     },
     "execution_count": 8,
     "metadata": {},
     "output_type": "execute_result"
    }
   ],
   "source": [
    "data_pos = []\n",
    "for pers in data_mask:\n",
    "    name = \"\"\n",
    "    for letter in pers:\n",
    "        if letter.isalpha():\n",
    "            name += letter\n",
    "    if len(name)>4:\n",
    "        data_pos.append(pers)\n",
    "data_pos"
   ]
  },
  {
   "cell_type": "code",
   "execution_count": 9,
   "metadata": {},
   "outputs": [
    {
     "data": {
      "text/plain": [
       "['Felipe', 'Fernando😷', 'Manuel', 'Nacho😷']"
      ]
     },
     "execution_count": 9,
     "metadata": {},
     "output_type": "execute_result"
    }
   ],
   "source": [
    "# https://docs.python.org/3.4/library/stdtypes.html?highlight=strip\n",
    "data_pos = []\n",
    "for pers in data_mask:\n",
    "    if len(pers.strip(\"😷\"))>4:\n",
    "        data_pos.append(pers)\n",
    "data_pos"
   ]
  },
  {
   "cell_type": "markdown",
   "metadata": {},
   "source": [
    "## Select only the names with more than 4 characters"
   ]
  },
  {
   "cell_type": "code",
   "execution_count": 10,
   "metadata": {},
   "outputs": [
    {
     "data": {
      "text/plain": [
       "['Juan😷', 'Adri😷', 'Felipe😷', 'Fernando😷', 'Ras😷', 'Manuel😷', 'Nacho😷']"
      ]
     },
     "execution_count": 10,
     "metadata": {},
     "output_type": "execute_result"
    }
   ],
   "source": [
    "data_mask = [pers.capitalize()+\"😷\" for pers in data_staff]\n",
    "data_mask"
   ]
  },
  {
   "cell_type": "code",
   "execution_count": 11,
   "metadata": {},
   "outputs": [
    {
     "data": {
      "text/plain": [
       "['Felipe😷', 'Fernando😷', 'Manuel😷', 'Nacho😷']"
      ]
     },
     "execution_count": 11,
     "metadata": {},
     "output_type": "execute_result"
    }
   ],
   "source": [
    "# \"\"Filtering\"\"\n",
    "data_pos = [person for person in data_mask if len(person.strip(\"😷\"))>4]\n",
    "data_pos"
   ]
  },
  {
   "cell_type": "code",
   "execution_count": 12,
   "metadata": {},
   "outputs": [
    {
     "data": {
      "text/plain": [
       "(7, 4)"
      ]
     },
     "execution_count": 12,
     "metadata": {},
     "output_type": "execute_result"
    }
   ],
   "source": [
    "len(data_mask), len(data_pos)"
   ]
  },
  {
   "cell_type": "code",
   "execution_count": 13,
   "metadata": {},
   "outputs": [
    {
     "data": {
      "text/plain": [
       "['Juan😷💻', 'Adri😷💻', 'Felipe🏠', 'Fernando🏠', 'Ras😷💻', 'Manuel🏠', 'Nacho🏠']"
      ]
     },
     "execution_count": 13,
     "metadata": {},
     "output_type": "execute_result"
    }
   ],
   "source": [
    "data_all = []\n",
    "for pers in data_mask:\n",
    "    if len(pers.strip(\"😷\"))>4:\n",
    "        data_all.append(pers.strip(\"😷\")+\"🏠\")\n",
    "    else:\n",
    "        data_all.append(pers+\"💻\")\n",
    "data_all"
   ]
  },
  {
   "cell_type": "code",
   "execution_count": 14,
   "metadata": {},
   "outputs": [
    {
     "data": {
      "text/plain": [
       "['Juan😷💻', 'Adri😷💻', 'Felipe🏠', 'Fernando🏠', 'Ras😷💻', 'Manuel🏠', 'Nacho🏠']"
      ]
     },
     "execution_count": 14,
     "metadata": {},
     "output_type": "execute_result"
    }
   ],
   "source": [
    "# Conditional asignement\n",
    "data_all = [person.strip(\"😷\")+\"🏠\" if len(person.strip(\"😷\"))>4 else person+\"💻\" for person in data_mask]\n",
    "data_all"
   ]
  },
  {
   "cell_type": "markdown",
   "metadata": {},
   "source": [
    "# [ ELEMENT if CONDITION(ternary) for LOOP if CONDITION(loop) ]\n",
    "\n",
    "- Condition (loop) : defines whether to put an element or not on this iteration (of the for loop)\n",
    "- Condition (ternary) : defines which element to put. As there must always be an element, there should always be an else for each if."
   ]
  },
  {
   "cell_type": "code",
   "execution_count": 15,
   "metadata": {},
   "outputs": [
    {
     "data": {
      "text/plain": [
       "['Juan😷💻', 'Adri😷💻', 'Felipe🏠', 'Fernando🏠', 'Ras🏖', 'Manuel🏠', 'Nacho🏠']"
      ]
     },
     "execution_count": 15,
     "metadata": {},
     "output_type": "execute_result"
    }
   ],
   "source": [
    "data_all = []\n",
    "for pers in data_mask:\n",
    "    if len(pers.strip(\"😷\"))>4:\n",
    "        data_all.append(pers.strip(\"😷\")+\"🏠\")\n",
    "    elif len(pers.strip(\"😷\"))<4:\n",
    "        data_all.append(pers.strip(\"😷\")+\"🏖\")\n",
    "    else:\n",
    "        data_all.append(pers+\"💻\")\n",
    "data_all"
   ]
  },
  {
   "cell_type": "code",
   "execution_count": 16,
   "metadata": {},
   "outputs": [
    {
     "data": {
      "text/plain": [
       "['Juan😷💻', 'Adri😷💻', 'Felipe🏠', 'Fernando🏠', 'Ras🏖', 'Manuel🏠', 'Nacho🏠']"
      ]
     },
     "execution_count": 16,
     "metadata": {},
     "output_type": "execute_result"
    }
   ],
   "source": [
    "data_all = [person.strip(\"😷\")+\"🏠\" \n",
    "            if len(person.strip(\"😷\"))>4 else person.strip(\"😷\")+\"🏖\" \n",
    "            if len(person.strip(\"😷\"))<4 else person+\"💻\" \n",
    "            for person in data_mask]\n",
    "data_all"
   ]
  },
  {
   "cell_type": "markdown",
   "metadata": {},
   "source": [
    "## Ternary operator"
   ]
  },
  {
   "cell_type": "code",
   "execution_count": 17,
   "metadata": {},
   "outputs": [
    {
     "data": {
      "text/plain": [
       "'Good'"
      ]
     },
     "execution_count": 17,
     "metadata": {},
     "output_type": "execute_result"
    }
   ],
   "source": [
    "qqty_ss_h2o_c_madrid = 400\n",
    "if qqty_ss_h2o_c_madrid > 1500:\n",
    "    water_quality = \"Bad\"\n",
    "else:\n",
    "    water_quality = \"Good\"\n",
    "water_quality"
   ]
  },
  {
   "cell_type": "code",
   "execution_count": 18,
   "metadata": {},
   "outputs": [
    {
     "data": {
      "text/plain": [
       "'Bad'"
      ]
     },
     "execution_count": 18,
     "metadata": {},
     "output_type": "execute_result"
    }
   ],
   "source": [
    "qqty_ss_h2o_c_madrid = 3400\n",
    "water_quality = \"Good\" if qqty_ss_h2o_c_madrid < 1500 else \"Bad\"\n",
    "water_quality"
   ]
  },
  {
   "cell_type": "markdown",
   "metadata": {},
   "source": [
    "# Nested List Comprehensions"
   ]
  },
  {
   "cell_type": "code",
   "execution_count": 19,
   "metadata": {},
   "outputs": [],
   "source": [
    "movies = [[\"The fellowship of the ring\", \"Two Towers\", \"The Return of the King\"], [\"Dune\", \"Dune 2\"], [\"Die Hard\", \"Die Hard 2\"], [\"Spy Kids\", \"Spy Kids Reloaded: The teenage years\"] ]"
   ]
  },
  {
   "cell_type": "code",
   "execution_count": 20,
   "metadata": {},
   "outputs": [
    {
     "data": {
      "text/plain": [
       "['The fellowship of the ring',\n",
       " 'Two Towers',\n",
       " 'The Return of the King',\n",
       " 'Dune',\n",
       " 'Dune 2',\n",
       " 'Die Hard',\n",
       " 'Die Hard 2',\n",
       " 'Spy Kids',\n",
       " 'Spy Kids Reloaded: The teenage years']"
      ]
     },
     "execution_count": 20,
     "metadata": {},
     "output_type": "execute_result"
    }
   ],
   "source": [
    "# Flatten\n",
    "movies_flat = []\n",
    "for serie in movies:\n",
    "    for film in serie:\n",
    "        movies_flat.append(film)\n",
    "movies_flat"
   ]
  },
  {
   "cell_type": "code",
   "execution_count": 27,
   "metadata": {},
   "outputs": [
    {
     "data": {
      "text/plain": [
       "['The fellowship of the ring',\n",
       " 'Two Towers',\n",
       " 'The Return of the King',\n",
       " 'Dune',\n",
       " 'Dune 2',\n",
       " 'Die Hard',\n",
       " 'Die Hard 2',\n",
       " 'Spy Kids',\n",
       " 'Spy Kids Reloaded: The teenage years']"
      ]
     },
     "execution_count": 27,
     "metadata": {},
     "output_type": "execute_result"
    }
   ],
   "source": [
    "# Extra\n",
    "# Concatenating lists\n",
    "movies_flat = []\n",
    "for serie in movies:\n",
    "    movies_flat += serie\n",
    "movies_flat"
   ]
  },
  {
   "cell_type": "code",
   "execution_count": 25,
   "metadata": {},
   "outputs": [
    {
     "data": {
      "text/plain": [
       "['The fellowship of the ring',\n",
       " 'Two Towers',\n",
       " 'The Return of the King',\n",
       " 'Dune',\n",
       " 'Dune 2',\n",
       " 'Die Hard',\n",
       " 'Die Hard 2',\n",
       " 'Spy Kids',\n",
       " 'Spy Kids Reloaded: The teenage years']"
      ]
     },
     "execution_count": 25,
     "metadata": {},
     "output_type": "execute_result"
    }
   ],
   "source": [
    "movies_flat = [film for series in movies for film in series]\n",
    "movies_flat"
   ]
  },
  {
   "cell_type": "markdown",
   "metadata": {},
   "source": [
    "![matryoshka](https://images-na.ssl-images-amazon.com/images/I/61%2BgLTYedpL._AC_SX425_.jpg)"
   ]
  },
  {
   "cell_type": "markdown",
   "metadata": {},
   "source": [
    "## Ex.1"
   ]
  },
  {
   "cell_type": "code",
   "execution_count": 70,
   "metadata": {},
   "outputs": [],
   "source": [
    "lst = [[[1,2,3],[4]],[[5,6],[7,8],[9,10],[11,12,13]],[[14,15],[16,17]]]"
   ]
  },
  {
   "cell_type": "code",
   "execution_count": 71,
   "metadata": {},
   "outputs": [
    {
     "data": {
      "text/plain": [
       "[[[1, 2, 3], [4]],\n",
       " [[5, 6], [7, 8], [9, 10], [11, 12, 13]],\n",
       " [[14, 15], [16, 17]]]"
      ]
     },
     "execution_count": 71,
     "metadata": {},
     "output_type": "execute_result"
    }
   ],
   "source": [
    "[l for l in lst]"
   ]
  },
  {
   "cell_type": "code",
   "execution_count": 72,
   "metadata": {},
   "outputs": [
    {
     "data": {
      "text/plain": [
       "[[1, 2, 3], [4], [5, 6], [7, 8], [9, 10], [11, 12, 13], [14, 15], [16, 17]]"
      ]
     },
     "execution_count": 72,
     "metadata": {},
     "output_type": "execute_result"
    }
   ],
   "source": [
    "[l_2 for l in lst for l_2 in l]"
   ]
  },
  {
   "cell_type": "code",
   "execution_count": 73,
   "metadata": {},
   "outputs": [],
   "source": [
    "lst_flatten = [e for l in lst for l_2 in l for e in l_2]"
   ]
  },
  {
   "cell_type": "code",
   "execution_count": 74,
   "metadata": {},
   "outputs": [
    {
     "data": {
      "text/plain": [
       "[1, 2, 3, 4, 5, 6, 7, 8, 9, 10, 11, 12, 13, 14, 15, 16, 17]"
      ]
     },
     "execution_count": 74,
     "metadata": {},
     "output_type": "execute_result"
    }
   ],
   "source": [
    "[lst[i][j][k] for i in range(len(lst)) for j in range(len(lst[i])) for k in range(len(lst[i][j]))]"
   ]
  },
  {
   "cell_type": "markdown",
   "metadata": {},
   "source": [
    "## Challenge"
   ]
  },
  {
   "cell_type": "code",
   "execution_count": 83,
   "metadata": {},
   "outputs": [],
   "source": [
    "mix_list = [[\"pato\",\"oca\"],[[\"pinscher\",\"teckel\"]],[\"gato\",\"tigre\"],[[\"carpa\",\"nemo\"],\"fish\"],\"animal\"]"
   ]
  },
  {
   "cell_type": "code",
   "execution_count": 85,
   "metadata": {},
   "outputs": [
    {
     "data": {
      "text/plain": [
       "[['pato', 'oca'],\n",
       " [['pinscher', 'teckel']],\n",
       " ['gato', 'tigre'],\n",
       " [['carpa', 'nemo'], 'fish'],\n",
       " ['animal']]"
      ]
     },
     "execution_count": 85,
     "metadata": {},
     "output_type": "execute_result"
    }
   ],
   "source": [
    "[lst if type(lst)==list else [lst] for lst in mix_list]"
   ]
  },
  {
   "cell_type": "code",
   "execution_count": 88,
   "metadata": {},
   "outputs": [
    {
     "data": {
      "text/plain": [
       "['pato',\n",
       " 'oca',\n",
       " ['pinscher', 'teckel'],\n",
       " 'gato',\n",
       " 'tigre',\n",
       " ['carpa', 'nemo'],\n",
       " 'fish',\n",
       " 'animal']"
      ]
     },
     "execution_count": 88,
     "metadata": {},
     "output_type": "execute_result"
    }
   ],
   "source": [
    "[lst_2 for lst in [lst if type(lst)==list else [lst] for lst in mix_list] for lst_2 in lst]"
   ]
  },
  {
   "cell_type": "code",
   "execution_count": 89,
   "metadata": {},
   "outputs": [
    {
     "data": {
      "text/plain": [
       "[['pato'],\n",
       " ['oca'],\n",
       " ['pinscher', 'teckel'],\n",
       " ['gato'],\n",
       " ['tigre'],\n",
       " ['carpa', 'nemo'],\n",
       " ['fish'],\n",
       " ['animal']]"
      ]
     },
     "execution_count": 89,
     "metadata": {},
     "output_type": "execute_result"
    }
   ],
   "source": [
    "[lst_2 if type(lst_2)==list else [lst_2] for lst in [lst if type(lst)==list else [lst] for lst in mix_list] for lst_2 in lst]"
   ]
  },
  {
   "cell_type": "code",
   "execution_count": 90,
   "metadata": {},
   "outputs": [
    {
     "data": {
      "text/plain": [
       "['pato',\n",
       " 'oca',\n",
       " 'pinscher',\n",
       " 'teckel',\n",
       " 'gato',\n",
       " 'tigre',\n",
       " 'carpa',\n",
       " 'nemo',\n",
       " 'fish',\n",
       " 'animal']"
      ]
     },
     "execution_count": 90,
     "metadata": {},
     "output_type": "execute_result"
    }
   ],
   "source": [
    "[e for lst in [lst_2 if type(lst_2)==list else [lst_2] for lst in [lst if type(lst)==list else [lst] for lst in mix_list] for lst_2 in lst] for e in lst]"
   ]
  },
  {
   "cell_type": "code",
   "execution_count": 95,
   "metadata": {},
   "outputs": [
    {
     "data": {
      "text/plain": [
       "['pato',\n",
       " 'oca',\n",
       " 'pinscher',\n",
       " 'teckel',\n",
       " 'gato',\n",
       " 'tigre',\n",
       " 'carpa',\n",
       " 'nemo',\n",
       " 'fish',\n",
       " 'animal']"
      ]
     },
     "execution_count": 95,
     "metadata": {},
     "output_type": "execute_result"
    }
   ],
   "source": [
    "# for loops\n",
    "# Juanitooo\n",
    "nueva = []\n",
    "for x in mix_list:\n",
    "    if type(x) == type([]):\n",
    "        for y in x:\n",
    "            if type(y) == type([]):\n",
    "                for c in y:\n",
    "                    nueva.append(c)\n",
    "            else:\n",
    "                nueva.append(y)\n",
    "    else:\n",
    "        nueva.append(x)\n",
    "nueva"
   ]
  },
  {
   "cell_type": "markdown",
   "metadata": {},
   "source": [
    "## List Comprehensions with dict"
   ]
  },
  {
   "cell_type": "code",
   "execution_count": 96,
   "metadata": {},
   "outputs": [],
   "source": [
    "hoteles = [\n",
    "    [\"Meliá\", 4, \"910 878 789\"],\n",
    "    [\"nh\", 5, \"910 654 367\"],\n",
    "    [\"Pension Lola\", 2],\n",
    "    [\"airBnB de Adri\", \"657 78 65 45\"]\n",
    "]"
   ]
  },
  {
   "cell_type": "code",
   "execution_count": 101,
   "metadata": {},
   "outputs": [],
   "source": [
    "hoteles = [\n",
    "    {\"name\":\"Melià\", \"stars\": 4, \"tel\":\"910 878 789\", \"vacancy\":150},\n",
    "    {\"name\":\"nh\", \"stars\":5, \"tel\":\"910 654 367\", \"vacancy\":80},\n",
    "    {\"name\":\"Pension Lola\", \"stars\":2, \"vacancy\":16},\n",
    "    {\"name\":\"airBnB de Adri\", \"tel\":\"657 78 65 45\", \"vacancy\":2}\n",
    "]"
   ]
  },
  {
   "cell_type": "code",
   "execution_count": 102,
   "metadata": {},
   "outputs": [
    {
     "data": {
      "text/plain": [
       "5"
      ]
     },
     "execution_count": 102,
     "metadata": {},
     "output_type": "execute_result"
    }
   ],
   "source": [
    "hoteles[1][\"stars\"]"
   ]
  },
  {
   "cell_type": "code",
   "execution_count": 105,
   "metadata": {},
   "outputs": [
    {
     "data": {
      "text/plain": [
       "248"
      ]
     },
     "execution_count": 105,
     "metadata": {},
     "output_type": "execute_result"
    }
   ],
   "source": [
    "sum([h[\"vacancy\"] for h in hoteles])"
   ]
  },
  {
   "cell_type": "code",
   "execution_count": 115,
   "metadata": {},
   "outputs": [
    {
     "data": {
      "text/plain": [
       "3.6666666666666665"
      ]
     },
     "execution_count": 115,
     "metadata": {},
     "output_type": "execute_result"
    }
   ],
   "source": [
    "import statistics\n",
    "statistics.mean([h[\"stars\"] for h in hoteles if \"stars\" in h])"
   ]
  },
  {
   "cell_type": "code",
   "execution_count": 116,
   "metadata": {},
   "outputs": [
    {
     "data": {
      "text/plain": [
       "2.75"
      ]
     },
     "execution_count": 116,
     "metadata": {},
     "output_type": "execute_result"
    }
   ],
   "source": [
    "statistics.mean([h.get(\"stars\",0) for h in hoteles])"
   ]
  },
  {
   "cell_type": "code",
   "execution_count": 117,
   "metadata": {},
   "outputs": [
    {
     "data": {
      "text/plain": [
       "3.375"
      ]
     },
     "execution_count": 117,
     "metadata": {},
     "output_type": "execute_result"
    }
   ],
   "source": [
    "statistics.mean([h.get(\"stars\",2.5) for h in hoteles])"
   ]
  },
  {
   "cell_type": "markdown",
   "metadata": {},
   "source": [
    "### dict.get(key, default)\n",
    "Return value for key or default if key not present"
   ]
  },
  {
   "cell_type": "code",
   "execution_count": 118,
   "metadata": {},
   "outputs": [],
   "source": [
    "films = [\n",
    "    {\"name\":\"Avengers\",\"scores\":[7,6,6,7.5]},\n",
    "    {\"name\":\"Interstellar\",\"scores\":[8,10,9,9,6]},\n",
    "    {\"name\":\"Inception\",\"scores\":[8,7,8,8.5]},\n",
    "    {\"name\":\"Blade Runner\",\"scores\":[10,10,7,3]}\n",
    "]"
   ]
  },
  {
   "cell_type": "code",
   "execution_count": 124,
   "metadata": {},
   "outputs": [
    {
     "data": {
      "text/plain": [
       "[['Avengers', 6.625],\n",
       " ['Interstellar', 8.4],\n",
       " ['Inception', 7.875],\n",
       " ['Blade Runner', 7.5]]"
      ]
     },
     "execution_count": 124,
     "metadata": {},
     "output_type": "execute_result"
    }
   ],
   "source": [
    "scores = [[film[\"name\"], statistics.mean(film[\"scores\"])] for film in films]\n",
    "scores"
   ]
  },
  {
   "cell_type": "code",
   "execution_count": 125,
   "metadata": {},
   "outputs": [
    {
     "data": {
      "text/plain": [
       "7.875"
      ]
     },
     "execution_count": 125,
     "metadata": {},
     "output_type": "execute_result"
    }
   ],
   "source": [
    "for film in scores:\n",
    "    if film[0] == \"Inception\":\n",
    "        inc = film[-1]\n",
    "inc"
   ]
  },
  {
   "cell_type": "markdown",
   "metadata": {},
   "source": [
    "# Dict Comprehension "
   ]
  },
  {
   "cell_type": "code",
   "execution_count": 132,
   "metadata": {},
   "outputs": [
    {
     "data": {
      "text/plain": [
       "{'avengers': 6.625,\n",
       " 'interstellar': 8.4,\n",
       " 'inception': 7.875,\n",
       " 'blade_runner': 7.5}"
      ]
     },
     "execution_count": 132,
     "metadata": {},
     "output_type": "execute_result"
    }
   ],
   "source": [
    "scores = {film[\"name\"].lower().replace(\" \",\"_\"):statistics.mean(film[\"scores\"]) for film in films}\n",
    "scores"
   ]
  },
  {
   "cell_type": "code",
   "execution_count": 133,
   "metadata": {},
   "outputs": [
    {
     "data": {
      "text/plain": [
       "6.625"
      ]
     },
     "execution_count": 133,
     "metadata": {},
     "output_type": "execute_result"
    }
   ],
   "source": [
    "scores[\"avengers\"]"
   ]
  }
 ],
 "metadata": {
  "kernelspec": {
   "display_name": "Python3 (ih)",
   "language": "python",
   "name": "ironhack"
  },
  "language_info": {
   "codemirror_mode": {
    "name": "ipython",
    "version": 3
   },
   "file_extension": ".py",
   "mimetype": "text/x-python",
   "name": "python",
   "nbconvert_exporter": "python",
   "pygments_lexer": "ipython3",
   "version": "3.7.8"
  }
 },
 "nbformat": 4,
 "nbformat_minor": 4
}
