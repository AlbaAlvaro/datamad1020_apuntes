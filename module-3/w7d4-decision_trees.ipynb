{
 "cells": [
  {
   "cell_type": "markdown",
   "metadata": {},
   "source": [
    "## Decision Trees"
   ]
  },
  {
   "cell_type": "code",
   "execution_count": 2,
   "metadata": {},
   "outputs": [],
   "source": [
    "import csv\n",
    "import numpy as np\n",
    "import matplotlib.pyplot as plt"
   ]
  },
  {
   "cell_type": "code",
   "execution_count": 3,
   "metadata": {},
   "outputs": [],
   "source": [
    "with open(\"data/gift.csv\", \"r\") as file:\n",
    "    data = list(csv.reader(file))"
   ]
  },
  {
   "cell_type": "code",
   "execution_count": 4,
   "metadata": {},
   "outputs": [
    {
     "data": {
      "text/plain": [
       "[['Type', 'Color', 'Pattern', 'Liked'],\n",
       " ['Blouse', 'Green', 'Polka', 'Yes'],\n",
       " ['Blouse', 'Red', 'Polka', 'Yes'],\n",
       " ['Dress', 'Red', 'Solid', 'Yes'],\n",
       " ['Dress', 'Green', 'Checkers', 'Yes'],\n",
       " ['Blouse', 'Yellow', 'Checkers', 'No'],\n",
       " ['Dress', 'Red', 'Solid', 'No'],\n",
       " ['Dress', 'Yellow', 'Solid', 'Yes'],\n",
       " ['Blouse', 'Green', 'Checkers', 'Yes'],\n",
       " ['Blouse', 'Red', 'Polka', 'No'],\n",
       " ['Blouse', 'Pink', 'Solid', 'Yes']]"
      ]
     },
     "execution_count": 4,
     "metadata": {},
     "output_type": "execute_result"
    }
   ],
   "source": [
    "data"
   ]
  },
  {
   "cell_type": "code",
   "execution_count": 5,
   "metadata": {},
   "outputs": [],
   "source": [
    "col_names = data[0]\n",
    "data = data[1:]"
   ]
  },
  {
   "cell_type": "code",
   "execution_count": 6,
   "metadata": {},
   "outputs": [
    {
     "data": {
      "text/plain": [
       "[['Blouse', 'Green', 'Polka', 'Yes'],\n",
       " ['Blouse', 'Red', 'Polka', 'Yes'],\n",
       " ['Dress', 'Red', 'Solid', 'Yes'],\n",
       " ['Dress', 'Green', 'Checkers', 'Yes'],\n",
       " ['Blouse', 'Yellow', 'Checkers', 'No'],\n",
       " ['Dress', 'Red', 'Solid', 'No'],\n",
       " ['Dress', 'Yellow', 'Solid', 'Yes'],\n",
       " ['Blouse', 'Green', 'Checkers', 'Yes'],\n",
       " ['Blouse', 'Red', 'Polka', 'No'],\n",
       " ['Blouse', 'Pink', 'Solid', 'Yes']]"
      ]
     },
     "execution_count": 6,
     "metadata": {},
     "output_type": "execute_result"
    }
   ],
   "source": [
    "data"
   ]
  },
  {
   "cell_type": "code",
   "execution_count": 11,
   "metadata": {},
   "outputs": [],
   "source": [
    "def unique(data, col:int):\n",
    "    return set([row[col] for row in data])"
   ]
  },
  {
   "cell_type": "code",
   "execution_count": 12,
   "metadata": {},
   "outputs": [
    {
     "data": {
      "text/plain": [
       "{'Blouse', 'Dress'}"
      ]
     },
     "execution_count": 12,
     "metadata": {},
     "output_type": "execute_result"
    }
   ],
   "source": [
    "unique(data,0)"
   ]
  },
  {
   "cell_type": "code",
   "execution_count": 16,
   "metadata": {},
   "outputs": [],
   "source": [
    "def question(col, value):\n",
    "    return lambda row: row[col]==value"
   ]
  },
  {
   "cell_type": "code",
   "execution_count": 18,
   "metadata": {},
   "outputs": [
    {
     "data": {
      "text/plain": [
       "False"
      ]
     },
     "execution_count": 18,
     "metadata": {},
     "output_type": "execute_result"
    }
   ],
   "source": [
    "question(0,\"Dress\")(['Blouse', 'Red', 'Polka', 'Yes'])"
   ]
  },
  {
   "cell_type": "code",
   "execution_count": 19,
   "metadata": {},
   "outputs": [],
   "source": [
    "def split(data, question):\n",
    "    true_row = []\n",
    "    false_row = []\n",
    "    for row in data:\n",
    "        if question(row):\n",
    "            true_row.append(row)\n",
    "        else:\n",
    "            false_row.append(row)\n",
    "    return true_row, false_row"
   ]
  },
  {
   "cell_type": "code",
   "execution_count": 21,
   "metadata": {},
   "outputs": [],
   "source": [
    "q = question(0,\"Dress\")\n",
    "true_rows, false_rows = split(data,q)"
   ]
  },
  {
   "cell_type": "code",
   "execution_count": 22,
   "metadata": {},
   "outputs": [
    {
     "data": {
      "text/plain": [
       "[['Dress', 'Red', 'Solid', 'Yes'],\n",
       " ['Dress', 'Green', 'Checkers', 'Yes'],\n",
       " ['Dress', 'Red', 'Solid', 'No'],\n",
       " ['Dress', 'Yellow', 'Solid', 'Yes']]"
      ]
     },
     "execution_count": 22,
     "metadata": {},
     "output_type": "execute_result"
    }
   ],
   "source": [
    "true_rows"
   ]
  },
  {
   "cell_type": "code",
   "execution_count": 23,
   "metadata": {},
   "outputs": [
    {
     "data": {
      "text/plain": [
       "[['Blouse', 'Green', 'Polka', 'Yes'],\n",
       " ['Blouse', 'Red', 'Polka', 'Yes'],\n",
       " ['Blouse', 'Yellow', 'Checkers', 'No'],\n",
       " ['Blouse', 'Green', 'Checkers', 'Yes'],\n",
       " ['Blouse', 'Red', 'Polka', 'No'],\n",
       " ['Blouse', 'Pink', 'Solid', 'Yes']]"
      ]
     },
     "execution_count": 23,
     "metadata": {},
     "output_type": "execute_result"
    }
   ],
   "source": [
    "false_rows"
   ]
  },
  {
   "cell_type": "code",
   "execution_count": 24,
   "metadata": {},
   "outputs": [],
   "source": [
    "def value_counts(data, col):\n",
    "    counts = {}\n",
    "    for row in data:\n",
    "        if not row[col] in counts:\n",
    "            counts[row[col]] = 1\n",
    "        else:\n",
    "            counts[row[col]] += 1\n",
    "    return counts"
   ]
  },
  {
   "cell_type": "code",
   "execution_count": 28,
   "metadata": {},
   "outputs": [
    {
     "data": {
      "text/plain": [
       "{'Blouse': 6, 'Dress': 4}"
      ]
     },
     "execution_count": 28,
     "metadata": {},
     "output_type": "execute_result"
    }
   ],
   "source": [
    "value_counts(data,0)"
   ]
  },
  {
   "cell_type": "code",
   "execution_count": 40,
   "metadata": {},
   "outputs": [],
   "source": [
    "def gini(data,col=-1):\n",
    "    counts = value_counts(data,col)\n",
    "    prob = [v/len(data) for v in counts.values()]\n",
    "    prob = [p**2 for p in prob]\n",
    "    return 1 - sum(prob)"
   ]
  },
  {
   "cell_type": "code",
   "execution_count": 41,
   "metadata": {},
   "outputs": [
    {
     "data": {
      "text/plain": [
       "0.42000000000000004"
      ]
     },
     "execution_count": 41,
     "metadata": {},
     "output_type": "execute_result"
    }
   ],
   "source": [
    "gini(data,-1)"
   ]
  },
  {
   "cell_type": "code",
   "execution_count": 42,
   "metadata": {},
   "outputs": [
    {
     "data": {
      "text/plain": [
       "0.375"
      ]
     },
     "execution_count": 42,
     "metadata": {},
     "output_type": "execute_result"
    }
   ],
   "source": [
    "gini(true_rows,-1)"
   ]
  },
  {
   "cell_type": "code",
   "execution_count": 43,
   "metadata": {},
   "outputs": [
    {
     "data": {
      "text/plain": [
       "0.4444444444444444"
      ]
     },
     "execution_count": 43,
     "metadata": {},
     "output_type": "execute_result"
    }
   ],
   "source": [
    "gini(false_rows,-1)"
   ]
  },
  {
   "cell_type": "code",
   "execution_count": 44,
   "metadata": {},
   "outputs": [
    {
     "data": {
      "text/plain": [
       "0.4097222222222222"
      ]
     },
     "execution_count": 44,
     "metadata": {},
     "output_type": "execute_result"
    }
   ],
   "source": [
    "(gini(true_rows,-1)+gini(false_rows,-1))/2"
   ]
  },
  {
   "cell_type": "code",
   "execution_count": 73,
   "metadata": {},
   "outputs": [],
   "source": [
    "def info_gain(data, true_rows, false_rows):\n",
    "    weight = len(true_rows)/len(data)\n",
    "    return gini(data) - weight*gini(true_rows) - (1-weight)*gini(false_rows)"
   ]
  },
  {
   "cell_type": "code",
   "execution_count": 74,
   "metadata": {},
   "outputs": [
    {
     "data": {
      "text/plain": [
       "0.05333333333333343"
      ]
     },
     "execution_count": 74,
     "metadata": {},
     "output_type": "execute_result"
    }
   ],
   "source": [
    "info_gain(data,true_rows,false_rows)"
   ]
  },
  {
   "cell_type": "code",
   "execution_count": 75,
   "metadata": {},
   "outputs": [],
   "source": [
    "true_rows, false_rows = split(data,question(1,\"Red\"))"
   ]
  },
  {
   "cell_type": "code",
   "execution_count": 76,
   "metadata": {},
   "outputs": [
    {
     "data": {
      "text/plain": [
       "0.05333333333333343"
      ]
     },
     "execution_count": 76,
     "metadata": {},
     "output_type": "execute_result"
    }
   ],
   "source": [
    "info_gain(data,true_rows,false_rows)"
   ]
  },
  {
   "cell_type": "code",
   "execution_count": 77,
   "metadata": {},
   "outputs": [
    {
     "data": {
      "text/plain": [
       "[['Blouse', 'Red', 'Polka', 'Yes'],\n",
       " ['Dress', 'Red', 'Solid', 'Yes'],\n",
       " ['Dress', 'Red', 'Solid', 'No'],\n",
       " ['Blouse', 'Red', 'Polka', 'No']]"
      ]
     },
     "execution_count": 77,
     "metadata": {},
     "output_type": "execute_result"
    }
   ],
   "source": [
    "true_rows"
   ]
  },
  {
   "cell_type": "code",
   "execution_count": 78,
   "metadata": {},
   "outputs": [
    {
     "data": {
      "text/plain": [
       "[['Blouse', 'Green', 'Polka', 'Yes'],\n",
       " ['Dress', 'Green', 'Checkers', 'Yes'],\n",
       " ['Blouse', 'Yellow', 'Checkers', 'No'],\n",
       " ['Dress', 'Yellow', 'Solid', 'Yes'],\n",
       " ['Blouse', 'Green', 'Checkers', 'Yes'],\n",
       " ['Blouse', 'Pink', 'Solid', 'Yes']]"
      ]
     },
     "execution_count": 78,
     "metadata": {},
     "output_type": "execute_result"
    }
   ],
   "source": [
    "false_rows"
   ]
  },
  {
   "cell_type": "code",
   "execution_count": 99,
   "metadata": {},
   "outputs": [],
   "source": [
    "def find_best_question(data):\n",
    "    best_gain = 0\n",
    "    best_question = None\n",
    "    for col in range(len(data[0])-1):\n",
    "        values = unique(data,col)\n",
    "        for value in values:\n",
    "            q = question(col,value)\n",
    "            true,false = split(data,q)\n",
    "            gain = info_gain(data,true,false)\n",
    "            if gain > best_gain:\n",
    "                best_gain = gain\n",
    "                best_question = q\n",
    "    return best_gain, best_question"
   ]
  },
  {
   "cell_type": "code",
   "execution_count": 100,
   "metadata": {},
   "outputs": [],
   "source": [
    "g, q = find_best_question(data)"
   ]
  },
  {
   "cell_type": "code",
   "execution_count": 101,
   "metadata": {},
   "outputs": [
    {
     "data": {
      "text/plain": [
       "0.07714285714285712"
      ]
     },
     "execution_count": 101,
     "metadata": {},
     "output_type": "execute_result"
    }
   ],
   "source": [
    "g"
   ]
  },
  {
   "cell_type": "code",
   "execution_count": 102,
   "metadata": {},
   "outputs": [
    {
     "data": {
      "text/plain": [
       "([['Blouse', 'Green', 'Polka', 'Yes'],\n",
       "  ['Dress', 'Green', 'Checkers', 'Yes'],\n",
       "  ['Blouse', 'Green', 'Checkers', 'Yes']],\n",
       " [['Blouse', 'Red', 'Polka', 'Yes'],\n",
       "  ['Dress', 'Red', 'Solid', 'Yes'],\n",
       "  ['Blouse', 'Yellow', 'Checkers', 'No'],\n",
       "  ['Dress', 'Red', 'Solid', 'No'],\n",
       "  ['Dress', 'Yellow', 'Solid', 'Yes'],\n",
       "  ['Blouse', 'Red', 'Polka', 'No'],\n",
       "  ['Blouse', 'Pink', 'Solid', 'Yes']])"
      ]
     },
     "execution_count": 102,
     "metadata": {},
     "output_type": "execute_result"
    }
   ],
   "source": [
    "split(data,q)"
   ]
  },
  {
   "cell_type": "code",
   "execution_count": 103,
   "metadata": {},
   "outputs": [],
   "source": [
    "true, false = split(data,q)"
   ]
  },
  {
   "cell_type": "code",
   "execution_count": 104,
   "metadata": {},
   "outputs": [],
   "source": [
    "g, q = find_best_question(false)"
   ]
  },
  {
   "cell_type": "code",
   "execution_count": 105,
   "metadata": {},
   "outputs": [
    {
     "data": {
      "text/plain": [
       "0.10884353741496605"
      ]
     },
     "execution_count": 105,
     "metadata": {},
     "output_type": "execute_result"
    }
   ],
   "source": [
    "g"
   ]
  },
  {
   "cell_type": "code",
   "execution_count": 106,
   "metadata": {},
   "outputs": [
    {
     "data": {
      "text/plain": [
       "([['Dress', 'Green', 'Checkers', 'Yes'],\n",
       "  ['Blouse', 'Yellow', 'Checkers', 'No'],\n",
       "  ['Blouse', 'Green', 'Checkers', 'Yes']],\n",
       " [['Blouse', 'Green', 'Polka', 'Yes'],\n",
       "  ['Blouse', 'Red', 'Polka', 'Yes'],\n",
       "  ['Dress', 'Red', 'Solid', 'Yes'],\n",
       "  ['Dress', 'Red', 'Solid', 'No'],\n",
       "  ['Dress', 'Yellow', 'Solid', 'Yes'],\n",
       "  ['Blouse', 'Red', 'Polka', 'No'],\n",
       "  ['Blouse', 'Pink', 'Solid', 'Yes']])"
      ]
     },
     "execution_count": 106,
     "metadata": {},
     "output_type": "execute_result"
    }
   ],
   "source": [
    "split(data,q)"
   ]
  },
  {
   "cell_type": "code",
   "execution_count": 107,
   "metadata": {},
   "outputs": [],
   "source": [
    "true, false = split(false,q)"
   ]
  },
  {
   "cell_type": "code",
   "execution_count": 108,
   "metadata": {},
   "outputs": [],
   "source": [
    "g, q = find_best_question(false)"
   ]
  },
  {
   "cell_type": "code",
   "execution_count": 109,
   "metadata": {},
   "outputs": [
    {
     "data": {
      "text/plain": [
       "0.1111111111111111"
      ]
     },
     "execution_count": 109,
     "metadata": {},
     "output_type": "execute_result"
    }
   ],
   "source": [
    "g"
   ]
  },
  {
   "cell_type": "code",
   "execution_count": 110,
   "metadata": {},
   "outputs": [
    {
     "data": {
      "text/plain": [
       "([['Blouse', 'Red', 'Polka', 'Yes'],\n",
       "  ['Dress', 'Red', 'Solid', 'Yes'],\n",
       "  ['Dress', 'Red', 'Solid', 'No'],\n",
       "  ['Blouse', 'Red', 'Polka', 'No']],\n",
       " [['Blouse', 'Green', 'Polka', 'Yes'],\n",
       "  ['Dress', 'Green', 'Checkers', 'Yes'],\n",
       "  ['Blouse', 'Yellow', 'Checkers', 'No'],\n",
       "  ['Dress', 'Yellow', 'Solid', 'Yes'],\n",
       "  ['Blouse', 'Green', 'Checkers', 'Yes'],\n",
       "  ['Blouse', 'Pink', 'Solid', 'Yes']])"
      ]
     },
     "execution_count": 110,
     "metadata": {},
     "output_type": "execute_result"
    }
   ],
   "source": [
    "split(data,q)"
   ]
  },
  {
   "cell_type": "code",
   "execution_count": 111,
   "metadata": {},
   "outputs": [],
   "source": [
    "true, false = split(false,q)"
   ]
  },
  {
   "cell_type": "code",
   "execution_count": 112,
   "metadata": {},
   "outputs": [],
   "source": [
    "g, q = find_best_question(false)"
   ]
  },
  {
   "cell_type": "code",
   "execution_count": 113,
   "metadata": {},
   "outputs": [
    {
     "data": {
      "text/plain": [
       "0"
      ]
     },
     "execution_count": 113,
     "metadata": {},
     "output_type": "execute_result"
    }
   ],
   "source": [
    "g"
   ]
  },
  {
   "cell_type": "code",
   "execution_count": 114,
   "metadata": {},
   "outputs": [
    {
     "name": "stdout",
     "output_type": "stream",
     "text": [
      "None\n"
     ]
    }
   ],
   "source": [
    "print(q)"
   ]
  },
  {
   "cell_type": "code",
   "execution_count": 115,
   "metadata": {},
   "outputs": [
    {
     "data": {
      "text/plain": [
       "0.8333333333333334"
      ]
     },
     "execution_count": 115,
     "metadata": {},
     "output_type": "execute_result"
    }
   ],
   "source": [
    "5/6"
   ]
  },
  {
   "cell_type": "code",
   "execution_count": null,
   "metadata": {},
   "outputs": [],
   "source": []
  },
  {
   "cell_type": "code",
   "execution_count": null,
   "metadata": {},
   "outputs": [],
   "source": []
  },
  {
   "cell_type": "code",
   "execution_count": null,
   "metadata": {},
   "outputs": [],
   "source": []
  },
  {
   "cell_type": "code",
   "execution_count": null,
   "metadata": {},
   "outputs": [],
   "source": []
  },
  {
   "cell_type": "code",
   "execution_count": null,
   "metadata": {},
   "outputs": [],
   "source": []
  },
  {
   "cell_type": "code",
   "execution_count": null,
   "metadata": {},
   "outputs": [],
   "source": []
  },
  {
   "cell_type": "code",
   "execution_count": null,
   "metadata": {},
   "outputs": [],
   "source": []
  },
  {
   "cell_type": "code",
   "execution_count": null,
   "metadata": {},
   "outputs": [],
   "source": []
  },
  {
   "cell_type": "code",
   "execution_count": null,
   "metadata": {},
   "outputs": [],
   "source": []
  },
  {
   "cell_type": "code",
   "execution_count": null,
   "metadata": {},
   "outputs": [],
   "source": []
  },
  {
   "cell_type": "code",
   "execution_count": null,
   "metadata": {},
   "outputs": [],
   "source": []
  },
  {
   "cell_type": "code",
   "execution_count": 112,
   "metadata": {},
   "outputs": [],
   "source": [
    "def unique(data,col_number):\n",
    "    return set([row[col_number] for row in data])"
   ]
  },
  {
   "cell_type": "code",
   "execution_count": 113,
   "metadata": {},
   "outputs": [
    {
     "data": {
      "text/plain": [
       "{'Green', 'Pink', 'Red', 'Yellow'}"
      ]
     },
     "execution_count": 113,
     "metadata": {},
     "output_type": "execute_result"
    }
   ],
   "source": [
    "unique(data,1)"
   ]
  },
  {
   "cell_type": "code",
   "execution_count": 114,
   "metadata": {},
   "outputs": [],
   "source": [
    "def value_counts(data, target=-1):\n",
    "    counts = {}\n",
    "    for row in data:\n",
    "        value = row[target]\n",
    "        counts[value] = counts.get(value,0)+1\n",
    "    return counts"
   ]
  },
  {
   "cell_type": "code",
   "execution_count": 115,
   "metadata": {
    "scrolled": true
   },
   "outputs": [
    {
     "data": {
      "text/plain": [
       "{'Yes': 7, 'No': 3}"
      ]
     },
     "execution_count": 115,
     "metadata": {},
     "output_type": "execute_result"
    }
   ],
   "source": [
    "value_counts(data)"
   ]
  },
  {
   "cell_type": "code",
   "execution_count": 116,
   "metadata": {},
   "outputs": [],
   "source": [
    "def question(col, value):\n",
    "    return lambda x: x[col]==value"
   ]
  },
  {
   "cell_type": "code",
   "execution_count": 117,
   "metadata": {},
   "outputs": [
    {
     "data": {
      "text/plain": [
       "<function __main__.question.<locals>.<lambda>(x)>"
      ]
     },
     "execution_count": 117,
     "metadata": {},
     "output_type": "execute_result"
    }
   ],
   "source": [
    "q = question(1,\"Green\")\n",
    "q"
   ]
  },
  {
   "cell_type": "code",
   "execution_count": 118,
   "metadata": {},
   "outputs": [
    {
     "data": {
      "text/plain": [
       "True"
      ]
     },
     "execution_count": 118,
     "metadata": {},
     "output_type": "execute_result"
    }
   ],
   "source": [
    "q(['Dress', 'Green', 'Checkers', 'Yes'])"
   ]
  },
  {
   "cell_type": "code",
   "execution_count": 119,
   "metadata": {},
   "outputs": [
    {
     "data": {
      "text/plain": [
       "False"
      ]
     },
     "execution_count": 119,
     "metadata": {},
     "output_type": "execute_result"
    }
   ],
   "source": [
    "q(['Dress', 'Yellow', 'Checkers', 'Yes'])"
   ]
  },
  {
   "cell_type": "code",
   "execution_count": 120,
   "metadata": {},
   "outputs": [],
   "source": [
    "def split(data,question):\n",
    "    true = []\n",
    "    false = []\n",
    "    for row in data:\n",
    "        if question(row):\n",
    "            true.append(row)\n",
    "        else:\n",
    "            false.append(row)\n",
    "    return true, false"
   ]
  },
  {
   "cell_type": "code",
   "execution_count": 121,
   "metadata": {},
   "outputs": [],
   "source": [
    "true, false = split(data,question(0,\"Dress\"))"
   ]
  },
  {
   "cell_type": "code",
   "execution_count": 122,
   "metadata": {},
   "outputs": [
    {
     "data": {
      "text/plain": [
       "[['Dress', 'Red', 'Solid', 'Yes'],\n",
       " ['Dress', 'Green', 'Checkers', 'Yes'],\n",
       " ['Dress', 'Red', 'Solid', 'No'],\n",
       " ['Dress', 'Yellow', 'Solid', 'Yes']]"
      ]
     },
     "execution_count": 122,
     "metadata": {},
     "output_type": "execute_result"
    }
   ],
   "source": [
    "true"
   ]
  },
  {
   "cell_type": "code",
   "execution_count": 123,
   "metadata": {},
   "outputs": [
    {
     "data": {
      "text/plain": [
       "[['Blouse', 'Green', 'Polka', 'Yes'],\n",
       " ['Blouse', 'Red', 'Polka', 'Yes'],\n",
       " ['Blouse', 'Yellow', 'Checkers', 'No'],\n",
       " ['Blouse', 'Green', 'Checkers', 'Yes'],\n",
       " ['Blouse', 'Red', 'Polka', 'No'],\n",
       " ['Blouse', 'Pink', 'Solid', 'Yes']]"
      ]
     },
     "execution_count": 123,
     "metadata": {},
     "output_type": "execute_result"
    }
   ],
   "source": [
    "false"
   ]
  },
  {
   "cell_type": "markdown",
   "metadata": {},
   "source": [
    "### What is the impurity of each division?"
   ]
  },
  {
   "cell_type": "code",
   "execution_count": 124,
   "metadata": {},
   "outputs": [],
   "source": [
    "def gini(data):\n",
    "    counts = value_counts(data)\n",
    "    prob = [v/len(data) for v in counts.values()]\n",
    "    prob_sq = [p**2 for p in prob]\n",
    "    return 1-sum(prob_sq)"
   ]
  },
  {
   "cell_type": "code",
   "execution_count": 125,
   "metadata": {},
   "outputs": [
    {
     "data": {
      "text/plain": [
       "0.42000000000000004"
      ]
     },
     "execution_count": 125,
     "metadata": {},
     "output_type": "execute_result"
    }
   ],
   "source": [
    "gini(data)"
   ]
  },
  {
   "cell_type": "code",
   "execution_count": 126,
   "metadata": {},
   "outputs": [
    {
     "data": {
      "text/plain": [
       "0.375"
      ]
     },
     "execution_count": 126,
     "metadata": {},
     "output_type": "execute_result"
    }
   ],
   "source": [
    "gini(true)"
   ]
  },
  {
   "cell_type": "code",
   "execution_count": 127,
   "metadata": {},
   "outputs": [
    {
     "data": {
      "text/plain": [
       "0.4444444444444444"
      ]
     },
     "execution_count": 127,
     "metadata": {},
     "output_type": "execute_result"
    }
   ],
   "source": [
    "gini(false)"
   ]
  },
  {
   "cell_type": "markdown",
   "metadata": {},
   "source": [
    "### Is this division an impovement?\n",
    "\n",
    "Information gain is the uncertainty before the division minus the the weighted uncertainty of both leaves."
   ]
  },
  {
   "cell_type": "code",
   "execution_count": 128,
   "metadata": {},
   "outputs": [],
   "source": [
    "def info_gain(data, true, false):\n",
    "    weight = len(true)/len(data)\n",
    "    return gini(data) - weight*gini(true) - (1-weight)*gini(false)"
   ]
  },
  {
   "cell_type": "code",
   "execution_count": 129,
   "metadata": {},
   "outputs": [
    {
     "data": {
      "text/plain": [
       "0.07714285714285712"
      ]
     },
     "execution_count": 129,
     "metadata": {},
     "output_type": "execute_result"
    }
   ],
   "source": [
    "true, false = split(data,question(1,\"Green\"))\n",
    "info_gain(data, true, false)"
   ]
  },
  {
   "cell_type": "code",
   "execution_count": 130,
   "metadata": {},
   "outputs": [
    {
     "data": {
      "text/plain": [
       "{'Yes': 3}"
      ]
     },
     "execution_count": 130,
     "metadata": {},
     "output_type": "execute_result"
    }
   ],
   "source": [
    "value_counts(true)"
   ]
  },
  {
   "cell_type": "code",
   "execution_count": 131,
   "metadata": {},
   "outputs": [
    {
     "data": {
      "text/plain": [
       "{'Yes': 4, 'No': 3}"
      ]
     },
     "execution_count": 131,
     "metadata": {},
     "output_type": "execute_result"
    }
   ],
   "source": [
    "value_counts(false)"
   ]
  },
  {
   "cell_type": "code",
   "execution_count": 132,
   "metadata": {},
   "outputs": [
    {
     "data": {
      "text/plain": [
       "0.020000000000000018"
      ]
     },
     "execution_count": 132,
     "metadata": {},
     "output_type": "execute_result"
    }
   ],
   "source": [
    "true, false = split(data,question(1,\"Yellow\"))\n",
    "info_gain(data, true, false)"
   ]
  },
  {
   "cell_type": "code",
   "execution_count": 133,
   "metadata": {},
   "outputs": [
    {
     "data": {
      "text/plain": [
       "0.05333333333333343"
      ]
     },
     "execution_count": 133,
     "metadata": {},
     "output_type": "execute_result"
    }
   ],
   "source": [
    "true, false = split(data,question(1,\"Red\"))\n",
    "info_gain(data, true, false)"
   ]
  },
  {
   "cell_type": "code",
   "execution_count": 134,
   "metadata": {},
   "outputs": [
    {
     "data": {
      "text/plain": [
       "0.020000000000000073"
      ]
     },
     "execution_count": 134,
     "metadata": {},
     "output_type": "execute_result"
    }
   ],
   "source": [
    "true, false = split(data,question(1,\"Pink\"))\n",
    "info_gain(data, true, false)"
   ]
  },
  {
   "cell_type": "markdown",
   "metadata": {},
   "source": [
    "### Finding the best split"
   ]
  },
  {
   "cell_type": "code",
   "execution_count": 135,
   "metadata": {},
   "outputs": [],
   "source": [
    "def best_split(data):\n",
    "    best_gain = 0  \n",
    "    best_question = False\n",
    "    n = len(data[0]) - 1\n",
    "    for i in range(n):\n",
    "        values = unique(data,i)\n",
    "        for val in values:\n",
    "            q = question(i,val)\n",
    "            # Trying out the question\n",
    "            true,false = split(data,q)\n",
    "            # Checking for no division\n",
    "            if len(true)==0 or len(false)==0:\n",
    "                continue\n",
    "            # Checking for improvement\n",
    "            gain = info_gain(data,true,false)\n",
    "            if gain > best_gain:\n",
    "                best_gain = gain\n",
    "                best_question = q\n",
    "                \n",
    "    return best_gain, best_question"
   ]
  },
  {
   "cell_type": "code",
   "execution_count": 136,
   "metadata": {},
   "outputs": [],
   "source": [
    "gain, q = best_split(data)"
   ]
  },
  {
   "cell_type": "code",
   "execution_count": 137,
   "metadata": {},
   "outputs": [
    {
     "data": {
      "text/plain": [
       "0.07714285714285712"
      ]
     },
     "execution_count": 137,
     "metadata": {},
     "output_type": "execute_result"
    }
   ],
   "source": [
    "gain"
   ]
  },
  {
   "cell_type": "code",
   "execution_count": 138,
   "metadata": {},
   "outputs": [
    {
     "data": {
      "text/plain": [
       "<function __main__.question.<locals>.<lambda>(x)>"
      ]
     },
     "execution_count": 138,
     "metadata": {},
     "output_type": "execute_result"
    }
   ],
   "source": [
    "q"
   ]
  },
  {
   "cell_type": "code",
   "execution_count": 139,
   "metadata": {},
   "outputs": [
    {
     "data": {
      "text/plain": [
       "([['Blouse', 'Green', 'Polka', 'Yes'],\n",
       "  ['Dress', 'Green', 'Checkers', 'Yes'],\n",
       "  ['Blouse', 'Green', 'Checkers', 'Yes']],\n",
       " [['Blouse', 'Red', 'Polka', 'Yes'],\n",
       "  ['Dress', 'Red', 'Solid', 'Yes'],\n",
       "  ['Blouse', 'Yellow', 'Checkers', 'No'],\n",
       "  ['Dress', 'Red', 'Solid', 'No'],\n",
       "  ['Dress', 'Yellow', 'Solid', 'Yes'],\n",
       "  ['Blouse', 'Red', 'Polka', 'No'],\n",
       "  ['Blouse', 'Pink', 'Solid', 'Yes']])"
      ]
     },
     "execution_count": 139,
     "metadata": {},
     "output_type": "execute_result"
    }
   ],
   "source": [
    "split(data,q)"
   ]
  },
  {
   "cell_type": "code",
   "execution_count": null,
   "metadata": {},
   "outputs": [],
   "source": []
  }
 ],
 "metadata": {
  "kernelspec": {
   "display_name": "Python 3.8.2 64-bit ('ironhack')",
   "language": "python",
   "name": "python38264bitironhack8a7eb1120dba4fe88baa7e322fcb29de"
  },
  "language_info": {
   "codemirror_mode": {
    "name": "ipython",
    "version": 3
   },
   "file_extension": ".py",
   "mimetype": "text/x-python",
   "name": "python",
   "nbconvert_exporter": "python",
   "pygments_lexer": "ipython3",
   "version": "3.8.6"
  }
 },
 "nbformat": 4,
 "nbformat_minor": 4
}
