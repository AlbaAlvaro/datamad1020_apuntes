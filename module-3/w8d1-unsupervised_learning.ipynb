{
 "cells": [
  {
   "attachments": {},
   "cell_type": "markdown",
   "metadata": {},
   "source": [
    "# Unsupervised Learning\n",
    "\n",
    "![image.png](https://miro.medium.com/max/1000/0*qJ3y2frzPU8hbt9L.png)"
   ]
  },
  {
   "cell_type": "code",
   "execution_count": null,
   "metadata": {},
   "outputs": [],
   "source": [
    "import numpy as np\n",
    "import pandas as pd\n",
    "import matplotlib.pyplot as plt\n",
    "from sklearn.decomposition import PCA\n",
    "from sklearn.manifold import TSNE"
   ]
  },
  {
   "cell_type": "markdown",
   "metadata": {},
   "source": [
    "### Principal Component Analysis\n",
    "##### Reduction of Dimensionality"
   ]
  },
  {
   "cell_type": "code",
   "execution_count": null,
   "metadata": {},
   "outputs": [],
   "source": [
    "x1 = np.linspace(0,1.5,15)\n",
    "y1 = .25*x1 + 2 + np.random.normal(0,.2,len(x1))\n",
    "x2 = np.linspace(3,5,15)\n",
    "y2 = .25*x2 + 2 + np.random.normal(0,.2,len(x1))\n",
    "data = pd.DataFrame({\"x\":np.concatenate([x1,x2]),\"y\":np.concatenate([y1,y2]),\"label\":[\"red\"]*15+[\"blue\"]*15})\n",
    "data.head()"
   ]
  },
  {
   "cell_type": "code",
   "execution_count": null,
   "metadata": {},
   "outputs": [],
   "source": [
    "plt.scatter(data[\"x\"],data[\"y\"],c=data[\"label\"]);"
   ]
  },
  {
   "cell_type": "code",
   "execution_count": null,
   "metadata": {},
   "outputs": [],
   "source": [
    "# Find center of all points\n",
    "plt.grid()\n",
    "cx,cy = data[\"x\"].mean(),data[\"y\"].mean()\n",
    "plt.scatter(data[\"x\"],data[\"y\"])\n",
    "plt.scatter(cx,cy,s=100);"
   ]
  },
  {
   "cell_type": "code",
   "execution_count": null,
   "metadata": {},
   "outputs": [],
   "source": [
    "# Center data in origin\n",
    "plt.grid()\n",
    "plt.scatter(data[\"x\"]-cx,data[\"y\"]-cy)\n",
    "plt.scatter(0,0,s=100);"
   ]
  },
  {
   "cell_type": "code",
   "execution_count": null,
   "metadata": {},
   "outputs": [],
   "source": [
    "# Find line that best fits data (PC1)\n",
    "plt.grid()\n",
    "plt.scatter(data[\"x\"]-cx,data[\"y\"]-cy)\n",
    "x = np.linspace((data[\"x\"]-cx).min(),(data[\"x\"]-cx).max())\n",
    "y = .25*x\n",
    "plt.plot(x,y, c=\"red\");"
   ]
  },
  {
   "cell_type": "code",
   "execution_count": null,
   "metadata": {},
   "outputs": [],
   "source": [
    "# Find ortogonal line to PC1 (PC2)\n",
    "plt.figure(figsize=(8,8))\n",
    "plt.xlim(-2.5,2.5)\n",
    "plt.ylim(-2.5,2.5)\n",
    "plt.scatter(data[\"x\"]-cx,data[\"y\"]-cy)\n",
    "x = np.linspace((data[\"x\"]-cx).min(),(data[\"x\"]-cx).max())\n",
    "y = .25*x\n",
    "plt.plot(x,y, c=\"red\")\n",
    "x = np.linspace(-2,2,2)\n",
    "y = -4*x\n",
    "plt.plot(x,y, c=\"red\")\n",
    "plt.grid()"
   ]
  },
  {
   "cell_type": "code",
   "execution_count": null,
   "metadata": {},
   "outputs": [],
   "source": [
    "pca = PCA(2)\n",
    "data_t = pca.fit_transform(data[[\"x\",\"y\"]])"
   ]
  },
  {
   "cell_type": "code",
   "execution_count": null,
   "metadata": {},
   "outputs": [],
   "source": [
    "plt.grid()\n",
    "plt.scatter(data_t[:,0],data_t[:,1]);"
   ]
  },
  {
   "cell_type": "code",
   "execution_count": null,
   "metadata": {},
   "outputs": [],
   "source": [
    "pca.explained_variance_ratio_"
   ]
  },
  {
   "cell_type": "code",
   "execution_count": null,
   "metadata": {},
   "outputs": [],
   "source": [
    "plt.bar([1,2],pca.explained_variance_ratio_,tick_label=[\"PC1\",\"PC2\"]);"
   ]
  },
  {
   "cell_type": "markdown",
   "metadata": {},
   "source": [
    "- The number of (max) Principal Components is equal to the number of variables or the number of data points, whichever is lower.\n",
    "- Each PC explains part of the variance of the original data"
   ]
  },
  {
   "cell_type": "code",
   "execution_count": null,
   "metadata": {},
   "outputs": [],
   "source": [
    "pca = PCA(3)\n",
    "data_t = pca.fit_transform(data[[\"x\",\"y\"]])"
   ]
  },
  {
   "cell_type": "markdown",
   "metadata": {},
   "source": [
    "### More dimensions"
   ]
  },
  {
   "cell_type": "code",
   "execution_count": null,
   "metadata": {},
   "outputs": [],
   "source": [
    "from sklearn.datasets import load_iris"
   ]
  },
  {
   "cell_type": "code",
   "execution_count": null,
   "metadata": {},
   "outputs": [],
   "source": [
    "X,y = load_iris(return_X_y=True)\n",
    "cols = load_iris()[\"feature_names\"]\n",
    "labels = load_iris()[\"target_names\"]"
   ]
  },
  {
   "cell_type": "code",
   "execution_count": null,
   "metadata": {},
   "outputs": [],
   "source": [
    "data = pd.DataFrame(X,columns=cols)\n",
    "data[\"species\"] = [labels[i] for i in y]"
   ]
  },
  {
   "cell_type": "code",
   "execution_count": null,
   "metadata": {},
   "outputs": [],
   "source": [
    "data.head()"
   ]
  },
  {
   "cell_type": "code",
   "execution_count": null,
   "metadata": {},
   "outputs": [],
   "source": [
    "pca = PCA(4)\n",
    "data_t = pca.fit_transform(data.iloc[:,:-1])"
   ]
  },
  {
   "cell_type": "code",
   "execution_count": null,
   "metadata": {},
   "outputs": [],
   "source": [
    "var_ratio = pca.explained_variance_ratio_\n",
    "var_ratio"
   ]
  },
  {
   "cell_type": "code",
   "execution_count": null,
   "metadata": {},
   "outputs": [],
   "source": [
    "plt.bar(range(4),var_ratio,tick_label=[f\"PC{i+1}\" for i in range(len(var_ratio))]);"
   ]
  },
  {
   "cell_type": "code",
   "execution_count": null,
   "metadata": {},
   "outputs": [],
   "source": [
    "import seaborn as sns\n",
    "plt.grid()\n",
    "sns.scatterplot(data_t[:,0],data_t[:,1], hue=data[\"species\"]);"
   ]
  },
  {
   "cell_type": "markdown",
   "metadata": {},
   "source": [
    "### t-SNE\n",
    "##### t-distributed stochastic neighbor embedding "
   ]
  },
  {
   "cell_type": "code",
   "execution_count": null,
   "metadata": {},
   "outputs": [],
   "source": [
    "tsne = TSNE(n_components=2, perplexity=30, n_iter=1000, learning_rate=200)"
   ]
  },
  {
   "cell_type": "code",
   "execution_count": null,
   "metadata": {},
   "outputs": [],
   "source": [
    "data_t = tsne.fit_transform(data.iloc[:,:-1])"
   ]
  },
  {
   "cell_type": "code",
   "execution_count": null,
   "metadata": {},
   "outputs": [],
   "source": [
    "plt.grid()\n",
    "sns.scatterplot(data_t[:,0],data_t[:,1], hue=data[\"species\"]);"
   ]
  },
  {
   "cell_type": "code",
   "execution_count": null,
   "metadata": {},
   "outputs": [],
   "source": []
  },
  {
   "cell_type": "code",
   "execution_count": null,
   "metadata": {},
   "outputs": [],
   "source": []
  },
  {
   "cell_type": "code",
   "execution_count": null,
   "metadata": {},
   "outputs": [],
   "source": []
  },
  {
   "cell_type": "code",
   "execution_count": null,
   "metadata": {},
   "outputs": [],
   "source": []
  },
  {
   "cell_type": "code",
   "execution_count": null,
   "metadata": {},
   "outputs": [],
   "source": []
  },
  {
   "cell_type": "code",
   "execution_count": null,
   "metadata": {},
   "outputs": [],
   "source": [
    "l=15\n",
    "x1 = np.random.normal(0,.1,l)\n",
    "y1 = np.random.normal(0,.1,l)\n",
    "x2 = np.random.normal(0,.1,l)\n",
    "y2 = np.random.normal(4,.1,l)\n",
    "x3 = np.random.normal(4,.1,l)\n",
    "y3 = np.random.normal(4,.1,l)\n",
    "x = np.concatenate([x1,x2,x3])\n",
    "y = np.concatenate([y1,y2,y3])\n",
    "labels = [\"b\"]*l+[\"r\"]*l+[\"pink\"]*l"
   ]
  },
  {
   "cell_type": "code",
   "execution_count": null,
   "metadata": {},
   "outputs": [],
   "source": [
    "plt.scatter(x,y,c=labels);"
   ]
  },
  {
   "cell_type": "code",
   "execution_count": null,
   "metadata": {},
   "outputs": [],
   "source": [
    "plt.scatter(x,[1]*len(labels),c=labels)"
   ]
  },
  {
   "cell_type": "code",
   "execution_count": null,
   "metadata": {},
   "outputs": [],
   "source": [
    "plt.scatter([1]*len(labels),y,c=labels)"
   ]
  },
  {
   "cell_type": "code",
   "execution_count": null,
   "metadata": {},
   "outputs": [],
   "source": [
    "data = np.concatenate([np.expand_dims(x,-1),np.expand_dims(y,-1)],axis=-1)"
   ]
  },
  {
   "cell_type": "code",
   "execution_count": null,
   "metadata": {},
   "outputs": [],
   "source": [
    "tsne = TSNE(n_components=1, perplexity=30, n_iter=1000, learning_rate=100)"
   ]
  },
  {
   "cell_type": "code",
   "execution_count": null,
   "metadata": {},
   "outputs": [],
   "source": [
    "x_t = tsne.fit_transform(data)"
   ]
  },
  {
   "cell_type": "code",
   "execution_count": null,
   "metadata": {},
   "outputs": [],
   "source": [
    "plt.scatter(x_t,[1]*len(labels),c=labels)"
   ]
  },
  {
   "cell_type": "code",
   "execution_count": null,
   "metadata": {},
   "outputs": [],
   "source": []
  },
  {
   "cell_type": "code",
   "execution_count": null,
   "metadata": {},
   "outputs": [],
   "source": []
  }
 ],
 "metadata": {
  "kernelspec": {
   "display_name": "Python 3",
   "language": "python",
   "name": "python3"
  },
  "language_info": {
   "codemirror_mode": {
    "name": "ipython",
    "version": 3
   },
   "file_extension": ".py",
   "mimetype": "text/x-python",
   "name": "python",
   "nbconvert_exporter": "python",
   "pygments_lexer": "ipython3",
   "version": "3.8.6"
  }
 },
 "nbformat": 4,
 "nbformat_minor": 4
}
