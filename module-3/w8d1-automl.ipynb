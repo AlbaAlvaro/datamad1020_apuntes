{
 "cells": [
  {
   "cell_type": "code",
   "execution_count": 1,
   "metadata": {},
   "outputs": [],
   "source": [
    "import h2o\n",
    "from h2o.automl import H2OAutoML"
   ]
  },
  {
   "cell_type": "code",
   "execution_count": 2,
   "metadata": {},
   "outputs": [
    {
     "name": "stdout",
     "output_type": "stream",
     "text": [
      "Checking whether there is an H2O instance running at http://localhost:54321 ..... not found.\n",
      "Attempting to start a local H2O server...\n",
      "  Java Version: openjdk version \"1.8.0_275\"; OpenJDK Runtime Environment (AdoptOpenJDK)(build 1.8.0_275-b01); OpenJDK 64-Bit Server VM (AdoptOpenJDK)(build 25.275-b01, mixed mode)\n",
      "  Starting server from /Users/felipe/miniforge3/envs/ironhack/lib/python3.8/site-packages/h2o/backend/bin/h2o.jar\n",
      "  Ice root: /var/folders/xc/2hbgx_ys6pn64tvbcj1r62qw0000gn/T/tmpdtpsy12_\n",
      "  JVM stdout: /var/folders/xc/2hbgx_ys6pn64tvbcj1r62qw0000gn/T/tmpdtpsy12_/h2o_felipe_started_from_python.out\n",
      "  JVM stderr: /var/folders/xc/2hbgx_ys6pn64tvbcj1r62qw0000gn/T/tmpdtpsy12_/h2o_felipe_started_from_python.err\n",
      "  Server is running at http://127.0.0.1:54321\n",
      "Connecting to H2O server at http://127.0.0.1:54321 ... successful.\n",
      "Warning: Your H2O cluster version is too old (6 months and 5 days)! Please download and install the latest version from http://h2o.ai/download/\n"
     ]
    },
    {
     "data": {
      "text/html": [
       "<div style=\"overflow:auto\"><table style=\"width:50%\"><tr><td>H2O_cluster_uptime:</td>\n",
       "<td>02 secs</td></tr>\n",
       "<tr><td>H2O_cluster_timezone:</td>\n",
       "<td>Europe/Madrid</td></tr>\n",
       "<tr><td>H2O_data_parsing_timezone:</td>\n",
       "<td>UTC</td></tr>\n",
       "<tr><td>H2O_cluster_version:</td>\n",
       "<td>3.30.0.4</td></tr>\n",
       "<tr><td>H2O_cluster_version_age:</td>\n",
       "<td>6 months and 5 days !!!</td></tr>\n",
       "<tr><td>H2O_cluster_name:</td>\n",
       "<td>H2O_from_python_felipe_fg5u32</td></tr>\n",
       "<tr><td>H2O_cluster_total_nodes:</td>\n",
       "<td>1</td></tr>\n",
       "<tr><td>H2O_cluster_free_memory:</td>\n",
       "<td>1.778 Gb</td></tr>\n",
       "<tr><td>H2O_cluster_total_cores:</td>\n",
       "<td>8</td></tr>\n",
       "<tr><td>H2O_cluster_allowed_cores:</td>\n",
       "<td>8</td></tr>\n",
       "<tr><td>H2O_cluster_status:</td>\n",
       "<td>accepting new members, healthy</td></tr>\n",
       "<tr><td>H2O_connection_url:</td>\n",
       "<td>http://127.0.0.1:54321</td></tr>\n",
       "<tr><td>H2O_connection_proxy:</td>\n",
       "<td>{\"http\": null, \"https\": null}</td></tr>\n",
       "<tr><td>H2O_internal_security:</td>\n",
       "<td>False</td></tr>\n",
       "<tr><td>H2O_API_Extensions:</td>\n",
       "<td>Amazon S3, XGBoost, Algos, AutoML, Core V3, TargetEncoder, Core V4</td></tr>\n",
       "<tr><td>Python_version:</td>\n",
       "<td>3.8.6 final</td></tr></table></div>"
      ],
      "text/plain": [
       "--------------------------  ------------------------------------------------------------------\n",
       "H2O_cluster_uptime:         02 secs\n",
       "H2O_cluster_timezone:       Europe/Madrid\n",
       "H2O_data_parsing_timezone:  UTC\n",
       "H2O_cluster_version:        3.30.0.4\n",
       "H2O_cluster_version_age:    6 months and 5 days !!!\n",
       "H2O_cluster_name:           H2O_from_python_felipe_fg5u32\n",
       "H2O_cluster_total_nodes:    1\n",
       "H2O_cluster_free_memory:    1.778 Gb\n",
       "H2O_cluster_total_cores:    8\n",
       "H2O_cluster_allowed_cores:  8\n",
       "H2O_cluster_status:         accepting new members, healthy\n",
       "H2O_connection_url:         http://127.0.0.1:54321\n",
       "H2O_connection_proxy:       {\"http\": null, \"https\": null}\n",
       "H2O_internal_security:      False\n",
       "H2O_API_Extensions:         Amazon S3, XGBoost, Algos, AutoML, Core V3, TargetEncoder, Core V4\n",
       "Python_version:             3.8.6 final\n",
       "--------------------------  ------------------------------------------------------------------"
      ]
     },
     "metadata": {},
     "output_type": "display_data"
    }
   ],
   "source": [
    "h2o.init()"
   ]
  },
  {
   "cell_type": "code",
   "execution_count": 3,
   "metadata": {},
   "outputs": [
    {
     "name": "stdout",
     "output_type": "stream",
     "text": [
      "Parse progress: |█████████████████████████████████████████████████████████| 100%\n"
     ]
    }
   ],
   "source": [
    "df = h2o.import_file(\"data/diamonds.csv\")"
   ]
  },
  {
   "cell_type": "code",
   "execution_count": 14,
   "metadata": {},
   "outputs": [],
   "source": [
    "df[\"cut\"] = df[\"cut\"].asfactor()\n",
    "df[\"color\"] = df[\"color\"].asfactor()\n",
    "df[\"clarity\"] = df[\"clarity\"].asfactor()"
   ]
  },
  {
   "cell_type": "code",
   "execution_count": 15,
   "metadata": {},
   "outputs": [],
   "source": [
    "train,test = df.split_frame(ratios=[.8])\n",
    "x = train.columns\n",
    "y = \"price\"\n",
    "x.remove(y)"
   ]
  },
  {
   "cell_type": "code",
   "execution_count": 17,
   "metadata": {},
   "outputs": [
    {
     "name": "stdout",
     "output_type": "stream",
     "text": [
      "AutoML progress: |████████████████████████████████████████████████████████| 100%\n"
     ]
    }
   ],
   "source": [
    "aml = H2OAutoML(max_models=20, seed=1)\n",
    "aml.train(x=x, y=y, training_frame=train)"
   ]
  },
  {
   "cell_type": "code",
   "execution_count": 18,
   "metadata": {},
   "outputs": [
    {
     "data": {
      "text/html": [
       "<table>\n",
       "<thead>\n",
       "<tr><th>model_id                                           </th><th style=\"text-align: right;\">  mean_residual_deviance</th><th style=\"text-align: right;\">   rmse</th><th style=\"text-align: right;\">   mse</th><th style=\"text-align: right;\">    mae</th><th style=\"text-align: right;\">    rmsle</th></tr>\n",
       "</thead>\n",
       "<tbody>\n",
       "<tr><td>StackedEnsemble_AllModels_AutoML_20201207_094849   </td><td style=\"text-align: right;\">                  290940</td><td style=\"text-align: right;\">539.388</td><td style=\"text-align: right;\">290940</td><td style=\"text-align: right;\">271.323</td><td style=\"text-align: right;\">0.0954606</td></tr>\n",
       "<tr><td>StackedEnsemble_BestOfFamily_AutoML_20201207_094849</td><td style=\"text-align: right;\">                  293170</td><td style=\"text-align: right;\">541.451</td><td style=\"text-align: right;\">293170</td><td style=\"text-align: right;\">273.123</td><td style=\"text-align: right;\">0.0961212</td></tr>\n",
       "<tr><td>GBM_3_AutoML_20201207_094849                       </td><td style=\"text-align: right;\">                  296715</td><td style=\"text-align: right;\">544.716</td><td style=\"text-align: right;\">296715</td><td style=\"text-align: right;\">275.11 </td><td style=\"text-align: right;\">0.0963085</td></tr>\n",
       "<tr><td>GBM_2_AutoML_20201207_094849                       </td><td style=\"text-align: right;\">                  298961</td><td style=\"text-align: right;\">546.773</td><td style=\"text-align: right;\">298961</td><td style=\"text-align: right;\">279.123</td><td style=\"text-align: right;\">0.0999991</td></tr>\n",
       "<tr><td>GBM_4_AutoML_20201207_094849                       </td><td style=\"text-align: right;\">                  300863</td><td style=\"text-align: right;\">548.509</td><td style=\"text-align: right;\">300863</td><td style=\"text-align: right;\">273.861</td><td style=\"text-align: right;\">0.0919426</td></tr>\n",
       "<tr><td>GBM_1_AutoML_20201207_094849                       </td><td style=\"text-align: right;\">                  301593</td><td style=\"text-align: right;\">549.175</td><td style=\"text-align: right;\">301593</td><td style=\"text-align: right;\">282.415</td><td style=\"text-align: right;\">0.101915 </td></tr>\n",
       "<tr><td>GBM_5_AutoML_20201207_094849                       </td><td style=\"text-align: right;\">                  313612</td><td style=\"text-align: right;\">560.011</td><td style=\"text-align: right;\">313612</td><td style=\"text-align: right;\">278.781</td><td style=\"text-align: right;\">0.0950125</td></tr>\n",
       "<tr><td>GBM_grid__1_AutoML_20201207_094849_model_1         </td><td style=\"text-align: right;\">                  327432</td><td style=\"text-align: right;\">572.217</td><td style=\"text-align: right;\">327432</td><td style=\"text-align: right;\">299.18 </td><td style=\"text-align: right;\">0.112375 </td></tr>\n",
       "<tr><td>XGBoost_grid__1_AutoML_20201207_094849_model_4     </td><td style=\"text-align: right;\">                  353961</td><td style=\"text-align: right;\">594.947</td><td style=\"text-align: right;\">353961</td><td style=\"text-align: right;\">313.281</td><td style=\"text-align: right;\">0.117218 </td></tr>\n",
       "<tr><td>GBM_grid__1_AutoML_20201207_094849_model_2         </td><td style=\"text-align: right;\">                  361291</td><td style=\"text-align: right;\">601.075</td><td style=\"text-align: right;\">361291</td><td style=\"text-align: right;\">320.394</td><td style=\"text-align: right;\">0.129117 </td></tr>\n",
       "</tbody>\n",
       "</table>"
      ]
     },
     "metadata": {},
     "output_type": "display_data"
    },
    {
     "data": {
      "text/plain": []
     },
     "execution_count": 18,
     "metadata": {},
     "output_type": "execute_result"
    }
   ],
   "source": [
    "aml.leaderboard"
   ]
  },
  {
   "cell_type": "code",
   "execution_count": null,
   "metadata": {},
   "outputs": [],
   "source": []
  }
 ],
 "metadata": {
  "kernelspec": {
   "display_name": "Python 3",
   "language": "python",
   "name": "python3"
  },
  "language_info": {
   "codemirror_mode": {
    "name": "ipython",
    "version": 3
   },
   "file_extension": ".py",
   "mimetype": "text/x-python",
   "name": "python",
   "nbconvert_exporter": "python",
   "pygments_lexer": "ipython3",
   "version": "3.8.6"
  }
 },
 "nbformat": 4,
 "nbformat_minor": 4
}
